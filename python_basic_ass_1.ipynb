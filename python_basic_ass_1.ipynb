{
  "nbformat": 4,
  "nbformat_minor": 0,
  "metadata": {
    "colab": {
      "provenance": [],
      "authorship_tag": "ABX9TyOnzTs0NoPbaYRpa0RgyOAG",
      "include_colab_link": true
    },
    "kernelspec": {
      "name": "python3",
      "display_name": "Python 3"
    },
    "language_info": {
      "name": "python"
    }
  },
  "cells": [
    {
      "cell_type": "markdown",
      "metadata": {
        "id": "view-in-github",
        "colab_type": "text"
      },
      "source": [
        "<a href=\"https://colab.research.google.com/github/mayanksharma847/python-basic-assignment/blob/main/python_basic_ass_1.ipynb\" target=\"_parent\"><img src=\"https://colab.research.google.com/assets/colab-badge.svg\" alt=\"Open In Colab\"/></a>"
      ]
    },
    {
      "cell_type": "markdown",
      "source": [
        "**Question-1** In the below elements which of them are values or an expression? eg:- values can be integer or string and expressions will be mathematical operators.\n",
        "      *,'hello',-87.8,-,/,+,6  \n"
      ],
      "metadata": {
        "id": "stVzM-cs27kQ"
      }
    },
    {
      "cell_type": "markdown",
      "source": [
        "**Answer-1**\n",
        "*,-,/,+ is the expression because they are mathmatical operators....\n",
        "'hello',-87.8,6 is the value because they are string,float,interger respectively\n",
        "\n",
        "\n",
        "\n",
        "\n"
      ],
      "metadata": {
        "id": "YZKL6Nve39Zk"
      }
    },
    {
      "cell_type": "markdown",
      "source": [
        "**Quetion-2** What is the difference between string and variable?"
      ],
      "metadata": {
        "id": "aKxVHDPI47HB"
      }
    },
    {
      "cell_type": "markdown",
      "source": [
        "**Answer-2**\n",
        "string is the datatype which is store characters in single or double quotes but variable store the value or any datatype in memory location\n"
      ],
      "metadata": {
        "id": "AqDxbb7v5G4e"
      }
    },
    {
      "cell_type": "markdown",
      "source": [
        "**Question-3** Describe three different data types."
      ],
      "metadata": {
        "id": "fNHWvsI66VKo"
      }
    },
    {
      "cell_type": "markdown",
      "source": [
        "**Answer-3**\n",
        "there are five type of datatype in python but we describe three type only\n",
        "numeric,\n",
        "boolean,\n",
        "sequence\n",
        "                             \n",
        "                              **1.Numeric**\n",
        "  Numeric data type represent the data which has numeric value. Numeric value can be integer, floating number or even complex numbers\n",
        "**1.integer**:- This value is represented by int class. It contains positive or negative whole numbers (without fraction or decimal). \n",
        "**2.floating**:-It is a real number with floating point representation. It is specified by a decimal point \n",
        "**3.complex**:-Complex number is represented by complex class. It is specified as (real part) + (imaginary part)j. For example – 2+3j\n",
        "                                 \n",
        "                                 **2.Boolean**\n",
        "It is a datatype which gives output in 0 and 1 here 0 means false and 1 means true \n",
        "                                 \n",
        "                                  **3.Sequence**\n",
        "sequence is the ordered collection of similar or different data types. Sequences allows to store multiple values .There are three types in Python:-string,list,tuple\n",
        "**1.string**:- A string is a collection of one or more characters put in a single quote, double-quote or triple quote.\n",
        "**2.list**:- It is just like a aaray but in list we do not need to collect similar type of data it is felexible.it is store in []\n",
        "**3.tuple**:- In list and tuple onle one difference. tuple is immutable means we cannot modified the tuple. it is store in ().\n",
        "\n",
        "\n"
      ],
      "metadata": {
        "id": "j36BjEF77s-t"
      }
    },
    {
      "cell_type": "code",
      "source": [
        "#numeric\n",
        "a=23 #integer\n",
        "print(f\"the datatype of a is {type(a)}\")\n",
        "b=23.7 #float\n",
        "print(f\"the datatype of b is {type(b)}\")\n",
        "c=3+9j #complex\n",
        "print(f\"the datatype of c is {type(c)}\")\n",
        "#boolean\n",
        "d=True\n",
        "print(f\"the datatype of d is {type(d)}\")\n",
        "e=False\n",
        "print(f\"the datatype of e is {type(e)}\")\n",
        "#sequence\n",
        "f=\"mayank\" #string\n",
        "print(f\"the datatype of f is {type(f)}\")\n",
        "g=[] #list\n",
        "print(f\"the datatype of g is {type(g)}\")\n",
        "h=() #tuple\n",
        "print(f\"the datatype of h is {type(h)}\")\n",
        "\n",
        "\n",
        "\n",
        "\n"
      ],
      "metadata": {
        "colab": {
          "base_uri": "https://localhost:8080/"
        },
        "id": "J72Gky9k-edO",
        "outputId": "fa2c9bae-645a-45c1-f6c0-673e0666a8f0"
      },
      "execution_count": null,
      "outputs": [
        {
          "output_type": "stream",
          "name": "stdout",
          "text": [
            "the datatype of a is <class 'int'>\n",
            "the datatype of b is <class 'float'>\n",
            "the datatype of c is <class 'complex'>\n",
            "the datatype of d is <class 'bool'>\n",
            "the datatype of e is <class 'bool'>\n",
            "the datatype of f is <class 'str'>\n",
            "the datatype of g is <class 'list'>\n",
            "the datatype of h is <class 'tuple'>\n"
          ]
        }
      ]
    },
    {
      "cell_type": "markdown",
      "source": [
        "**Question-4** What is an expression made up of? What do all expressions do?"
      ],
      "metadata": {
        "id": "V4YofINMgrPF"
      }
    },
    {
      "cell_type": "markdown",
      "source": [
        "**Answer-4**\n",
        "expression is the combnation of variable ,operation and value  that yields a result value like **5+5=10** is the expression"
      ],
      "metadata": {
        "id": "sHlsCZwRg0ZP"
      }
    },
    {
      "cell_type": "markdown",
      "source": [
        "Question-5 This assignment statements, like spam = 10. What is the difference between an expression and a statement?\n"
      ],
      "metadata": {
        "id": "wnRcjo2Wi1Nw"
      }
    },
    {
      "cell_type": "markdown",
      "source": [
        "**Answer-5**\n",
        "Statements represent an action or command e.g print statements, assignment statements. Expression is a combination of variables, operations and values that yields a result value. All expression is a statement but all statement is not a expression "
      ],
      "metadata": {
        "id": "NQ6IGP1xjBpe"
      }
    },
    {
      "cell_type": "markdown",
      "source": [
        "**Question-6** After running the following code, what does the variable bacon contain?\n",
        "\n",
        "bacon = 22\n",
        "\n",
        "bacon + 1\n"
      ],
      "metadata": {
        "id": "9pY92PuvlVhe"
      }
    },
    {
      "cell_type": "markdown",
      "source": [
        "**Answer-6**\n",
        "the variable bacon contain 22\n"
      ],
      "metadata": {
        "id": "Sq9F3QM2lfqO"
      }
    },
    {
      "cell_type": "code",
      "source": [
        "bacon = 22\n",
        "print(bacon + 1)\n",
        "print(bacon)"
      ],
      "metadata": {
        "colab": {
          "base_uri": "https://localhost:8080/"
        },
        "id": "iNdHMWdqkyB1",
        "outputId": "b38f11d5-cd4d-4b55-c0ee-303a33668d40"
      },
      "execution_count": null,
      "outputs": [
        {
          "output_type": "stream",
          "name": "stdout",
          "text": [
            "23\n",
            "22\n"
          ]
        }
      ]
    },
    {
      "cell_type": "markdown",
      "source": [
        "**Question-7** What should the values of the following two terms be?\n",
        "\n",
        "'spam' + 'spamspam'\n",
        "\n",
        "'spam' * 3\n"
      ],
      "metadata": {
        "id": "PXy623zol8MD"
      }
    },
    {
      "cell_type": "markdown",
      "source": [
        "**Answer-7**\n",
        "the value of bothe term is same . the value is spamspamspam"
      ],
      "metadata": {
        "id": "vHy1XAu1oxrL"
      }
    },
    {
      "cell_type": "code",
      "source": [
        "'spam' + 'spamspam'"
      ],
      "metadata": {
        "colab": {
          "base_uri": "https://localhost:8080/",
          "height": 36
        },
        "id": "T9NjK3mnpsQj",
        "outputId": "2e63e9b9-1e2c-4f9e-b700-a368ac51cfaa"
      },
      "execution_count": null,
      "outputs": [
        {
          "output_type": "execute_result",
          "data": {
            "text/plain": [
              "'spamspamspam'"
            ],
            "application/vnd.google.colaboratory.intrinsic+json": {
              "type": "string"
            }
          },
          "metadata": {},
          "execution_count": 4
        }
      ]
    },
    {
      "cell_type": "code",
      "source": [
        "'spam' * 3\n"
      ],
      "metadata": {
        "colab": {
          "base_uri": "https://localhost:8080/",
          "height": 36
        },
        "id": "udIX3CZLpxOy",
        "outputId": "ccb6e667-0d28-4393-ffdb-5a0126e58f00"
      },
      "execution_count": null,
      "outputs": [
        {
          "output_type": "execute_result",
          "data": {
            "text/plain": [
              "'spamspamspam'"
            ],
            "application/vnd.google.colaboratory.intrinsic+json": {
              "type": "string"
            }
          },
          "metadata": {},
          "execution_count": 5
        }
      ]
    },
    {
      "cell_type": "markdown",
      "source": [
        "**Question-8** Why is eggs a valid variable name while 100 is invalid?"
      ],
      "metadata": {
        "id": "Trums3hWr9c_"
      }
    },
    {
      "cell_type": "markdown",
      "source": [
        "**Answer-8**\n",
        "there are some rule of the variable and one of the rule is Variable name can have numbers but not at the beginning.thats why 100 is not valid variable"
      ],
      "metadata": {
        "id": "V_vIdFVFsCc_"
      }
    },
    {
      "cell_type": "markdown",
      "source": [
        "**Question-9** What three functions can be used to get the integer, floating-point number, or string version of a value?"
      ],
      "metadata": {
        "id": "uG6Ggiq2wKgJ"
      }
    },
    {
      "cell_type": "markdown",
      "source": [
        "**Answer-9**\n",
        "the function  of integer is int()\n",
        "\n",
        "the function of float is float()\n",
        "\n",
        "the function of string is str()\n"
      ],
      "metadata": {
        "id": "AE7k23IqwTjY"
      }
    },
    {
      "cell_type": "markdown",
      "source": [
        "**Question-10** Why does this expression cause an error? How can you fix it?\n",
        "\n",
        "'I have eaten ' + 99 + ' burritos.'\n"
      ],
      "metadata": {
        "id": "rmkcYDtZwT_N"
      }
    },
    {
      "cell_type": "markdown",
      "source": [
        "**Answer-10**\n",
        "because this expression connect through the strong typing . In strong typing we cannot connect two different data type\n",
        "now i can fix it\n",
        "\n",
        "(f\"i have eaten {99} burritos)"
      ],
      "metadata": {
        "id": "_UYq-fLEwlG_"
      }
    },
    {
      "cell_type": "code",
      "source": [
        "(f\"i have eaten {99} burritos\")"
      ],
      "metadata": {
        "colab": {
          "base_uri": "https://localhost:8080/",
          "height": 36
        },
        "id": "_-bQtcWNzxIk",
        "outputId": "879993b4-1aae-46a2-dcc1-3cb45115a2ff"
      },
      "execution_count": null,
      "outputs": [
        {
          "output_type": "execute_result",
          "data": {
            "text/plain": [
              "'i have eaten 99 burritos'"
            ],
            "application/vnd.google.colaboratory.intrinsic+json": {
              "type": "string"
            }
          },
          "metadata": {},
          "execution_count": 6
        }
      ]
    }
  ]
}